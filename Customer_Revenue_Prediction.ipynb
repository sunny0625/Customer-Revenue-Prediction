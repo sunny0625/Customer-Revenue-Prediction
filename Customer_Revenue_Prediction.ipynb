{
  "nbformat": 4,
  "nbformat_minor": 0,
  "metadata": {
    "colab": {
      "provenance": [],
      "authorship_tag": "ABX9TyPu0LM8OVAjUxvJ5o0wdyF6",
      "include_colab_link": true
    },
    "kernelspec": {
      "name": "python3",
      "display_name": "Python 3"
    },
    "language_info": {
      "name": "python"
    }
  },
  "cells": [
    {
      "cell_type": "markdown",
      "metadata": {
        "id": "view-in-github",
        "colab_type": "text"
      },
      "source": [
        "<a href=\"https://colab.research.google.com/github/sunny0625/CoLab/blob/code/Customer_Revenue_Prediction.ipynb\" target=\"_parent\"><img src=\"https://colab.research.google.com/assets/colab-badge.svg\" alt=\"Open In Colab\"/></a>"
      ]
    },
    {
      "cell_type": "code",
      "execution_count": null,
      "metadata": {
        "colab": {
          "base_uri": "https://localhost:8080/"
        },
        "id": "LxfMTvR0OJDX",
        "outputId": "48f9027d-d161-40f1-e185-18f72e5fe87e"
      },
      "outputs": [
        {
          "output_type": "stream",
          "name": "stdout",
          "text": [
            "Colab only includes TensorFlow 2.x; %tensorflow_version has no effect.\n"
          ]
        }
      ],
      "source": [
        "%tensorflow_version 2.x"
      ]
    },
    {
      "cell_type": "code",
      "source": [
        "import tensorflow as tf\n",
        "tf.__version__"
      ],
      "metadata": {
        "colab": {
          "base_uri": "https://localhost:8080/",
          "height": 35
        },
        "id": "knlFBwjLOY0M",
        "outputId": "fb609e50-a288-4d77-a655-fba4ec090b83"
      },
      "execution_count": null,
      "outputs": [
        {
          "output_type": "execute_result",
          "data": {
            "text/plain": [
              "'2.14.0'"
            ],
            "application/vnd.google.colaboratory.intrinsic+json": {
              "type": "string"
            }
          },
          "metadata": {},
          "execution_count": 4
        }
      ]
    },
    {
      "cell_type": "markdown",
      "source": [
        "# Creating Tensors\n",
        "1. List\n",
        "2. Array (NumPy)\n",
        "3. TensorFlow (Contanst)"
      ],
      "metadata": {
        "id": "cjRPpqHPkZaE"
      }
    },
    {
      "cell_type": "code",
      "source": [
        "my_list = [1, 2, 3, 4, 5]\n",
        "type(my_list)"
      ],
      "metadata": {
        "id": "rrvZI6TxOjXQ",
        "colab": {
          "base_uri": "https://localhost:8080/"
        },
        "outputId": "ea377a40-d12c-4819-ae18-378d65e1c8d2"
      },
      "execution_count": null,
      "outputs": [
        {
          "output_type": "execute_result",
          "data": {
            "text/plain": [
              "list"
            ]
          },
          "metadata": {},
          "execution_count": 5
        }
      ]
    },
    {
      "cell_type": "code",
      "source": [
        "# Converting Data Type using TF\n",
        "tf_list = tf.convert_to_tensor(my_list, dtype=tf.float32)"
      ],
      "metadata": {
        "id": "mBeF_uMdlndq"
      },
      "execution_count": null,
      "outputs": []
    },
    {
      "cell_type": "code",
      "source": [
        "type(tf_list)"
      ],
      "metadata": {
        "colab": {
          "base_uri": "https://localhost:8080/"
        },
        "id": "Dge4ASfTmSpA",
        "outputId": "ee2c1b9f-0e94-4317-d0ed-698efa92b54a"
      },
      "execution_count": null,
      "outputs": [
        {
          "output_type": "execute_result",
          "data": {
            "text/plain": [
              "tensorflow.python.framework.ops.EagerTensor"
            ]
          },
          "metadata": {},
          "execution_count": 7
        }
      ]
    },
    {
      "cell_type": "code",
      "source": [
        "my_list = [[1, 2, 3, 4, 5]]\n",
        "my_list"
      ],
      "metadata": {
        "colab": {
          "base_uri": "https://localhost:8080/"
        },
        "id": "qc7R86Zbmf4W",
        "outputId": "f20196bc-7678-4825-85b2-1acd14dbd277"
      },
      "execution_count": null,
      "outputs": [
        {
          "output_type": "execute_result",
          "data": {
            "text/plain": [
              "[[1, 2, 3, 4, 5]]"
            ]
          },
          "metadata": {},
          "execution_count": 8
        }
      ]
    },
    {
      "cell_type": "code",
      "source": [
        "tf_list1 = tf.convert_to_tensor(my_list,dtype=tf.float32)"
      ],
      "metadata": {
        "id": "wJruqM4wyvDD"
      },
      "execution_count": null,
      "outputs": []
    },
    {
      "cell_type": "code",
      "source": [
        "print(tf_list)"
      ],
      "metadata": {
        "colab": {
          "base_uri": "https://localhost:8080/"
        },
        "id": "vvTsXGwYzhdW",
        "outputId": "1d95f2e0-fd4e-4739-f924-7577a87941db"
      },
      "execution_count": null,
      "outputs": [
        {
          "output_type": "stream",
          "name": "stdout",
          "text": [
            "tf.Tensor([1. 2. 3. 4. 5.], shape=(5,), dtype=float32)\n"
          ]
        }
      ]
    },
    {
      "cell_type": "code",
      "source": [
        "print(tf_list1)"
      ],
      "metadata": {
        "colab": {
          "base_uri": "https://localhost:8080/"
        },
        "id": "ipwwVAotzDxN",
        "outputId": "02743ec7-0b77-44a0-b636-7775a9ae3145"
      },
      "execution_count": null,
      "outputs": [
        {
          "output_type": "stream",
          "name": "stdout",
          "text": [
            "tf.Tensor([[1. 2. 3. 4. 5.]], shape=(1, 5), dtype=float32)\n"
          ]
        }
      ]
    },
    {
      "cell_type": "code",
      "source": [
        "my_list_col = [[1], [2], [3], [4], [5]]\n",
        "tf_list2 = tf.convert_to_tensor(my_list_col,dtype=tf.float32)\n",
        "print(tf_list2)"
      ],
      "metadata": {
        "colab": {
          "base_uri": "https://localhost:8080/"
        },
        "id": "tYQBlA6H2wZu",
        "outputId": "4fe813d1-3170-40b6-f001-e0f302028912"
      },
      "execution_count": null,
      "outputs": [
        {
          "output_type": "stream",
          "name": "stdout",
          "text": [
            "tf.Tensor(\n",
            "[[1.]\n",
            " [2.]\n",
            " [3.]\n",
            " [4.]\n",
            " [5.]], shape=(5, 1), dtype=float32)\n"
          ]
        }
      ]
    },
    {
      "cell_type": "code",
      "source": [
        "# NumPy Array\n",
        "import numpy as np"
      ],
      "metadata": {
        "id": "7_ipIAFx4PMG"
      },
      "execution_count": null,
      "outputs": []
    },
    {
      "cell_type": "code",
      "source": [
        "arr = np.array([1, 2, 3, 4, 5])\n",
        "arr"
      ],
      "metadata": {
        "colab": {
          "base_uri": "https://localhost:8080/"
        },
        "id": "_OpeqdCW4XQ3",
        "outputId": "9ded0efc-aa99-4fda-a852-578581bd6640"
      },
      "execution_count": null,
      "outputs": [
        {
          "output_type": "execute_result",
          "data": {
            "text/plain": [
              "array([1, 2, 3, 4, 5])"
            ]
          },
          "metadata": {},
          "execution_count": 16
        }
      ]
    },
    {
      "cell_type": "code",
      "source": [
        "tf_arr = tf.convert_to_tensor(arr,dtype=tf.float32)\n",
        "print(tf_arr)"
      ],
      "metadata": {
        "colab": {
          "base_uri": "https://localhost:8080/"
        },
        "id": "3xLjqltj4mO_",
        "outputId": "4c866eab-d570-4f53-fb20-8d7f5f0aa8f9"
      },
      "execution_count": null,
      "outputs": [
        {
          "output_type": "stream",
          "name": "stdout",
          "text": [
            "tf.Tensor([1. 2. 3. 4. 5.], shape=(5,), dtype=float32)\n"
          ]
        }
      ]
    },
    {
      "cell_type": "code",
      "source": [
        "# 2 x 2\n",
        "arr1 = np.array([[1, 2], [3, 4]])\n",
        "arr1"
      ],
      "metadata": {
        "colab": {
          "base_uri": "https://localhost:8080/"
        },
        "id": "e8c9A0Ft5F8a",
        "outputId": "f6275617-6aac-463e-baaf-ffe3b0b6003a"
      },
      "execution_count": null,
      "outputs": [
        {
          "output_type": "execute_result",
          "data": {
            "text/plain": [
              "array([[1, 2],\n",
              "       [3, 4]])"
            ]
          },
          "metadata": {},
          "execution_count": 18
        }
      ]
    },
    {
      "cell_type": "code",
      "source": [
        "type(arr1)"
      ],
      "metadata": {
        "colab": {
          "base_uri": "https://localhost:8080/"
        },
        "id": "z_Lt_VzZ5X7K",
        "outputId": "ad12f03b-b452-4e3c-b07b-b15d2363d0c5"
      },
      "execution_count": null,
      "outputs": [
        {
          "output_type": "execute_result",
          "data": {
            "text/plain": [
              "numpy.ndarray"
            ]
          },
          "metadata": {},
          "execution_count": 19
        }
      ]
    },
    {
      "cell_type": "code",
      "source": [
        "tf_arr1 = tf.convert_to_tensor(arr1)\n",
        "print(tf_arr1)"
      ],
      "metadata": {
        "colab": {
          "base_uri": "https://localhost:8080/"
        },
        "id": "q2OPNp8g5b_k",
        "outputId": "4e6cabca-4101-4056-a823-c9cb92f56f9c"
      },
      "execution_count": null,
      "outputs": [
        {
          "output_type": "stream",
          "name": "stdout",
          "text": [
            "tf.Tensor(\n",
            "[[1 2]\n",
            " [3 4]], shape=(2, 2), dtype=int64)\n"
          ]
        }
      ]
    },
    {
      "cell_type": "markdown",
      "source": [
        "# Constant"
      ],
      "metadata": {
        "id": "q84iUZHgAJ_1"
      }
    },
    {
      "cell_type": "code",
      "source": [
        "tf_const = tf.constant([1, 2, 3, 4, 5], dtype=tf.float32)\n",
        "print(tf_const)"
      ],
      "metadata": {
        "colab": {
          "base_uri": "https://localhost:8080/"
        },
        "id": "mY30QRP35xyP",
        "outputId": "1c9bc89f-4113-40b2-f418-48fb98cd09c6"
      },
      "execution_count": null,
      "outputs": [
        {
          "output_type": "stream",
          "name": "stdout",
          "text": [
            "tf.Tensor([1. 2. 3. 4. 5.], shape=(5,), dtype=float32)\n"
          ]
        }
      ]
    },
    {
      "cell_type": "code",
      "source": [
        "tf_const1 = tf.constant(np.array())"
      ],
      "metadata": {
        "id": "qvLw6BvtAyZE"
      },
      "execution_count": null,
      "outputs": []
    }
  ]
}